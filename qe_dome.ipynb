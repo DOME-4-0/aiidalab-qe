{
 "cells": [
  {
   "cell_type": "code",
   "execution_count": 1,
   "metadata": {},
   "outputs": [
    {
     "data": {
      "application/javascript": [
       "IPython.OutputArea.prototype._should_scroll = function(lines) {\n",
       "    return false;\n",
       "}\n",
       "document.title='AiiDAlab QE app'\n"
      ],
      "text/plain": [
       "<IPython.core.display.Javascript object>"
      ]
     },
     "metadata": {},
     "output_type": "display_data"
    }
   ],
   "source": [
    "%%javascript\n",
    "IPython.OutputArea.prototype._should_scroll = function(lines) {\n",
    "    return false;\n",
    "}\n",
    "document.title='AiiDAlab QE app'"
   ]
  },
  {
   "cell_type": "code",
   "execution_count": 2,
   "metadata": {},
   "outputs": [],
   "source": [
    "# Fix pybel import path\n",
    "try:\n",
    "    import sys\n",
    "    sys.modules['pybel'] = __import__('openbabel', globals(), locals(), ['pybel']).pybel\n",
    "except Exception:\n",
    "    pass"
   ]
  },
  {
   "cell_type": "code",
   "execution_count": 3,
   "metadata": {},
   "outputs": [
    {
     "data": {
      "application/vnd.jupyter.widget-view+json": {
       "model_id": "698448e9e1a048379d3148edcb50fb62",
       "version_major": 2,
       "version_minor": 0
      },
      "text/plain": []
     },
     "metadata": {},
     "output_type": "display_data"
    }
   ],
   "source": [
    "import urllib\n",
    "import pprint\n",
    "import requests\n",
    "\n",
    "import aiida.orm\n",
    "import optimade.adapters\n",
    "import pymatgen.core.structure\n",
    "\n",
    "from aiidalab_widgets_base.viewers import StructureDataViewer\n",
    "\n",
    "\n",
    "class OptimadeInterceptor(StructureDataViewer):\n",
    "    def __init__(self, url_key='optimade_structure', **kwargs):\n",
    "        self._url_key = url_key\n",
    "        structure = self._fetch_optimade_structure()\n",
    "        self.aiida_structure = structure\n",
    "        super().__init__(structure=structure, **kwargs)\n",
    "        \n",
    "    def _fetch_optimade_structure(self):\n",
    "        # Get the URL from that passed to the notebook\n",
    "        structure_url = urllib.parse.parse_qs(urllib.parse.urlparse(jupyter_notebook_url).query)[self._url_key][0]\n",
    "        # Query the endpoint and get the aiida structure\n",
    "        response = requests.get(structure_url)\n",
    "        data = response.json()['data']\n",
    "        structure = optimade.adapters.Structure(data).as_aiida_structuredata\n",
    "        return structure"
   ]
  },
  {
   "cell_type": "code",
   "execution_count": 4,
   "metadata": {
    "scrolled": false
   },
   "outputs": [
    {
     "name": "stderr",
     "output_type": "stream",
     "text": [
      "/opt/conda/lib/python3.7/site-packages/optimade/adapters/structures/aiida.py:73: ConversionWarning: No mass defined for <species(name='Ce')>, will default to setting mass to 1.0.\n",
      "  ConversionWarning,\n",
      "/opt/conda/lib/python3.7/site-packages/aiida/transports/transport.py:201: AiidaDeprecationWarning: method is deprecated, use `aiida.plugins.entry_point.get_entry_point_names` instead\n",
      "  warnings.warn(message, AiidaDeprecationWarning)  # pylint: disable=no-member\n",
      "/opt/conda/lib/python3.7/site-packages/aiida/schedulers/scheduler.py:93: AiidaDeprecationWarning: method is deprecated, use `aiida.plugins.entry_point.get_entry_point_names` instead\n",
      "  warnings.warn(message, AiidaDeprecationWarning)  # pylint: disable=no-member\n",
      "/opt/conda/lib/python3.7/site-packages/aiida/orm/computers.py:786: AiidaDeprecationWarning: this method is deprecated, use the `hostname` property instead\n",
      "  warnings.warn('this method is deprecated, use the `hostname` property instead', AiidaDeprecationWarning)  # pylint: disable=no-member\n"
     ]
    },
    {
     "data": {
      "application/vnd.jupyter.widget-view+json": {
       "model_id": "318b32c48269489cbffe9f74b751a3c6",
       "version_major": 2,
       "version_minor": 0
      },
      "text/plain": [
       "OptimadeInterceptor(children=(HBox(children=(VBox(children=(NGLWidget(),), layout=Layout(width='60%')), Tab(ch…"
      ]
     },
     "metadata": {},
     "output_type": "display_data"
    },
    {
     "data": {
      "application/vnd.jupyter.widget-view+json": {
       "model_id": "abc65f10eae9440ca97cf0941ee46cf1",
       "version_major": 2,
       "version_minor": 0
      },
      "text/plain": [
       "Output()"
      ]
     },
     "metadata": {},
     "output_type": "display_data"
    }
   ],
   "source": [
    "import ipywidgets as ipw\n",
    "from jinja2 import Environment\n",
    "from importlib_resources import files\n",
    "\n",
    "from aiida.orm import StructureData\n",
    "from aiida.orm import load_node\n",
    "from aiidalab_widgets_base import OptimadeQueryWidget, StructureExamplesWidget\n",
    "from aiidalab_widgets_base import StructureBrowserWidget, StructureManagerWidget, StructureUploadWidget, BasicStructureEditor\n",
    "from aiidalab_widgets_base import WizardAppWidget, WizardAppWidgetStep\n",
    "from aiidalab_widgets_base.bug_report import install_create_github_issue_exception_handler\n",
    "\n",
    "from aiidalab_qe.app import static\n",
    "from aiidalab_qe.common.process import QeAppWorkChainSelector\n",
    "from aiidalab_qe.app.configuration import ConfigureQeAppWorkChainStep\n",
    "from aiidalab_qe.app.submission import SubmitQeAppWorkChainStep\n",
    "from aiidalab_qe.app.result import ViewQeAppWorkChainStatusAndResultsStep\n",
    "from aiidalab_qe.app.structure import StructureSelectionStep, Examples\n",
    "from aiidalab_qe.version import __version__\n",
    "\n",
    "\n",
    "OptimadeQueryWidget.title = \"OPTIMADE\"  # monkeypatch\n",
    "\n",
    "\n",
    "# Create the application steps\n",
    "structure_manager_widget = StructureManagerWidget(\n",
    "    importers=[\n",
    "        StructureBrowserWidget(title=\"AiiDA database\"),\n",
    "        StructureExamplesWidget(title=\"From Examples\", examples=Examples),\n",
    "    ],\n",
    "    editors=[\n",
    "        BasicStructureEditor(title=\"Edit structure\"),\n",
    "    ],\n",
    "    node_class='StructureData',\n",
    "    storable=False,\n",
    ")\n",
    "viewer = OptimadeInterceptor()\n",
    "configure_qe_app_work_chain_step = ConfigureQeAppWorkChainStep(auto_advance=True)\n",
    "submit_qe_app_work_chain_step = SubmitQeAppWorkChainStep(auto_advance=True)\n",
    "submit_qe_app_work_chain_step.input_structure = viewer.aiida_structure\n",
    "view_qe_app_work_chain_status_and_results_step = ViewQeAppWorkChainStatusAndResultsStep()\n",
    "\n",
    "# Link the application steps\n",
    "# configure_qe_app_work_chain_step.previous_step_state = WizardAppWidgetStep.State.SUCCESS\n",
    "ipw.dlink((configure_qe_app_work_chain_step, 'state'), (submit_qe_app_work_chain_step, 'previous_step_state'))\n",
    "ipw.dlink((configure_qe_app_work_chain_step, 'configuration_parameters'), (submit_qe_app_work_chain_step, 'input_parameters'))\n",
    "\n",
    "ipw.dlink((submit_qe_app_work_chain_step, 'process'), (view_qe_app_work_chain_status_and_results_step, 'process'))\n",
    "\n",
    "# Add the application steps to the application\n",
    "app = WizardAppWidget(\n",
    "    steps=[\n",
    "        ('Configure work chain', configure_qe_app_work_chain_step),\n",
    "        ('Choose computational resources', submit_qe_app_work_chain_step),\n",
    "        ('Status & Results', view_qe_app_work_chain_status_and_results_step),\n",
    "    ])\n",
    "\n",
    "# Add process selection header\n",
    "work_chain_selector = QeAppWorkChainSelector(layout=ipw.Layout(width='auto'))\n",
    "\n",
    "def _observe_process_selection(change):\n",
    "    if change['old'] == change['new']:\n",
    "        return\n",
    "    pk = change['new']\n",
    "    if pk is None:\n",
    "        app.reset()\n",
    "        app.selected_index = 0\n",
    "\n",
    "        \n",
    "work_chain_selector.observe(_observe_process_selection, 'value')    \n",
    "ipw.dlink((submit_qe_app_work_chain_step, 'process'), (work_chain_selector, 'value'),\n",
    "          transform=lambda node: None if node is None else node.pk)\n",
    "\n",
    "env = Environment()\n",
    "\n",
    "template = files(static).joinpath(\"welcome.jinja\").read_text()\n",
    "style = files(static).joinpath(\"style.css\").read_text()\n",
    "welcome_message = ipw.HTML(env.from_string(template).render(style=style))\n",
    "footer = ipw.HTML(f'<p style=\"text-align:right;\">Copyright (c) 2022 AiiDAlab team (EPFL)&#8195Version: {__version__}</p>')\n",
    "\n",
    "app_with_work_chain_selector = ipw.VBox(children=[work_chain_selector, app])\n",
    "\n",
    "output = ipw.Output()\n",
    "install_create_github_issue_exception_handler(\n",
    "    output,\n",
    "    url='https://github.com/aiidalab/aiidalab-qe/issues/new',\n",
    "    labels=('bug', 'automated-report'))\n",
    "\n",
    "with output:\n",
    "    display(welcome_message, app_with_work_chain_selector, footer)\n",
    "    \n",
    "configure_qe_app_work_chain_step.previous_step_state = WizardAppWidgetStep.State.SUCCESS\n",
    "\n",
    "display(viewer)\n",
    "display(output)"
   ]
  },
  {
   "cell_type": "code",
   "execution_count": null,
   "metadata": {},
   "outputs": [],
   "source": []
  }
 ],
 "metadata": {
  "kernelspec": {
   "display_name": "Python 3 (ipykernel)",
   "language": "python",
   "name": "python3"
  },
  "language_info": {
   "codemirror_mode": {
    "name": "ipython",
    "version": 3
   },
   "file_extension": ".py",
   "mimetype": "text/x-python",
   "name": "python",
   "nbconvert_exporter": "python",
   "pygments_lexer": "ipython3",
   "version": "3.7.9"
  }
 },
 "nbformat": 4,
 "nbformat_minor": 4
}
